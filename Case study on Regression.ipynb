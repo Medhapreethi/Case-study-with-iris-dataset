{
 "cells": [
  {
   "cell_type": "code",
   "execution_count": 42,
   "id": "26447bbb",
   "metadata": {},
   "outputs": [],
   "source": [
    "import pandas as pd\n",
    "import matplotlib.pyplot as plt\n",
    "import numpy as np\n",
    "import seaborn as sns"
   ]
  },
  {
   "cell_type": "code",
   "execution_count": 43,
   "id": "2a4d3ada",
   "metadata": {},
   "outputs": [],
   "source": [
    "data=pd.read_csv(\"C:/Users/HP/Downloads/car_age_price.csv\")"
   ]
  },
  {
   "cell_type": "code",
   "execution_count": 44,
   "id": "119ec242",
   "metadata": {},
   "outputs": [
    {
     "data": {
      "text/html": [
       "<div>\n",
       "<style scoped>\n",
       "    .dataframe tbody tr th:only-of-type {\n",
       "        vertical-align: middle;\n",
       "    }\n",
       "\n",
       "    .dataframe tbody tr th {\n",
       "        vertical-align: top;\n",
       "    }\n",
       "\n",
       "    .dataframe thead th {\n",
       "        text-align: right;\n",
       "    }\n",
       "</style>\n",
       "<table border=\"1\" class=\"dataframe\">\n",
       "  <thead>\n",
       "    <tr style=\"text-align: right;\">\n",
       "      <th></th>\n",
       "      <th>Year</th>\n",
       "      <th>Price</th>\n",
       "    </tr>\n",
       "  </thead>\n",
       "  <tbody>\n",
       "    <tr>\n",
       "      <th>0</th>\n",
       "      <td>2018</td>\n",
       "      <td>465000</td>\n",
       "    </tr>\n",
       "    <tr>\n",
       "      <th>1</th>\n",
       "      <td>2019</td>\n",
       "      <td>755000</td>\n",
       "    </tr>\n",
       "    <tr>\n",
       "      <th>2</th>\n",
       "      <td>2019</td>\n",
       "      <td>700000</td>\n",
       "    </tr>\n",
       "    <tr>\n",
       "      <th>3</th>\n",
       "      <td>2018</td>\n",
       "      <td>465000</td>\n",
       "    </tr>\n",
       "    <tr>\n",
       "      <th>4</th>\n",
       "      <td>2018</td>\n",
       "      <td>465000</td>\n",
       "    </tr>\n",
       "  </tbody>\n",
       "</table>\n",
       "</div>"
      ],
      "text/plain": [
       "   Year   Price\n",
       "0  2018  465000\n",
       "1  2019  755000\n",
       "2  2019  700000\n",
       "3  2018  465000\n",
       "4  2018  465000"
      ]
     },
     "execution_count": 44,
     "metadata": {},
     "output_type": "execute_result"
    }
   ],
   "source": [
    "data.head()"
   ]
  },
  {
   "cell_type": "code",
   "execution_count": 45,
   "id": "980b3d6a",
   "metadata": {},
   "outputs": [
    {
     "data": {
      "text/plain": [
       "(112, 2)"
      ]
     },
     "execution_count": 45,
     "metadata": {},
     "output_type": "execute_result"
    }
   ],
   "source": [
    "data.shape"
   ]
  },
  {
   "cell_type": "code",
   "execution_count": 46,
   "id": "cfa1182a",
   "metadata": {},
   "outputs": [
    {
     "data": {
      "text/plain": [
       "Year     0\n",
       "Price    0\n",
       "dtype: int64"
      ]
     },
     "execution_count": 46,
     "metadata": {},
     "output_type": "execute_result"
    }
   ],
   "source": [
    "data.isna().sum()"
   ]
  },
  {
   "cell_type": "code",
   "execution_count": 47,
   "id": "03b7de4d",
   "metadata": {},
   "outputs": [
    {
     "data": {
      "text/html": [
       "<div>\n",
       "<style scoped>\n",
       "    .dataframe tbody tr th:only-of-type {\n",
       "        vertical-align: middle;\n",
       "    }\n",
       "\n",
       "    .dataframe tbody tr th {\n",
       "        vertical-align: top;\n",
       "    }\n",
       "\n",
       "    .dataframe thead th {\n",
       "        text-align: right;\n",
       "    }\n",
       "</style>\n",
       "<table border=\"1\" class=\"dataframe\">\n",
       "  <thead>\n",
       "    <tr style=\"text-align: right;\">\n",
       "      <th></th>\n",
       "      <th>Year</th>\n",
       "      <th>Price</th>\n",
       "    </tr>\n",
       "  </thead>\n",
       "  <tbody>\n",
       "    <tr>\n",
       "      <th>count</th>\n",
       "      <td>112.000000</td>\n",
       "      <td>112.000000</td>\n",
       "    </tr>\n",
       "    <tr>\n",
       "      <th>mean</th>\n",
       "      <td>2016.669643</td>\n",
       "      <td>483866.044643</td>\n",
       "    </tr>\n",
       "    <tr>\n",
       "      <th>std</th>\n",
       "      <td>1.629616</td>\n",
       "      <td>91217.450533</td>\n",
       "    </tr>\n",
       "    <tr>\n",
       "      <th>min</th>\n",
       "      <td>2013.000000</td>\n",
       "      <td>300000.000000</td>\n",
       "    </tr>\n",
       "    <tr>\n",
       "      <th>25%</th>\n",
       "      <td>2015.000000</td>\n",
       "      <td>423750.000000</td>\n",
       "    </tr>\n",
       "    <tr>\n",
       "      <th>50%</th>\n",
       "      <td>2017.000000</td>\n",
       "      <td>500000.000000</td>\n",
       "    </tr>\n",
       "    <tr>\n",
       "      <th>75%</th>\n",
       "      <td>2017.000000</td>\n",
       "      <td>550000.000000</td>\n",
       "    </tr>\n",
       "    <tr>\n",
       "      <th>max</th>\n",
       "      <td>2020.000000</td>\n",
       "      <td>755000.000000</td>\n",
       "    </tr>\n",
       "  </tbody>\n",
       "</table>\n",
       "</div>"
      ],
      "text/plain": [
       "              Year          Price\n",
       "count   112.000000     112.000000\n",
       "mean   2016.669643  483866.044643\n",
       "std       1.629616   91217.450533\n",
       "min    2013.000000  300000.000000\n",
       "25%    2015.000000  423750.000000\n",
       "50%    2017.000000  500000.000000\n",
       "75%    2017.000000  550000.000000\n",
       "max    2020.000000  755000.000000"
      ]
     },
     "execution_count": 47,
     "metadata": {},
     "output_type": "execute_result"
    }
   ],
   "source": [
    "data.describe()"
   ]
  },
  {
   "cell_type": "code",
   "execution_count": 63,
   "id": "a7c25f5e",
   "metadata": {
    "scrolled": true
   },
   "outputs": [],
   "source": [
    "y=data['Price']#prdicting value\n",
    "x=data['Year']#predictor\n",
    "x=x.values.reshape(-1, 1)"
   ]
  },
  {
   "cell_type": "code",
   "execution_count": 90,
   "id": "6cec2764",
   "metadata": {},
   "outputs": [
    {
     "data": {
      "text/plain": [
       "array([[2018],\n",
       "       [2019],\n",
       "       [2019],\n",
       "       [2018],\n",
       "       [2018],\n",
       "       [2015],\n",
       "       [2016],\n",
       "       [2017],\n",
       "       [2017],\n",
       "       [2017],\n",
       "       [2019],\n",
       "       [2018],\n",
       "       [2017],\n",
       "       [2019],\n",
       "       [2017],\n",
       "       [2017],\n",
       "       [2017],\n",
       "       [2017],\n",
       "       [2019],\n",
       "       [2017],\n",
       "       [2018],\n",
       "       [2019],\n",
       "       [2015],\n",
       "       [2017],\n",
       "       [2017],\n",
       "       [2017],\n",
       "       [2017],\n",
       "       [2017],\n",
       "       [2017],\n",
       "       [2017],\n",
       "       [2019],\n",
       "       [2017],\n",
       "       [2017],\n",
       "       [2017],\n",
       "       [2017],\n",
       "       [2017],\n",
       "       [2017],\n",
       "       [2017],\n",
       "       [2018],\n",
       "       [2020],\n",
       "       [2019],\n",
       "       [2019],\n",
       "       [2018],\n",
       "       [2019],\n",
       "       [2019],\n",
       "       [2018],\n",
       "       [2019],\n",
       "       [2018],\n",
       "       [2016],\n",
       "       [2018],\n",
       "       [2013],\n",
       "       [2018],\n",
       "       [2013],\n",
       "       [2013],\n",
       "       [2017],\n",
       "       [2017],\n",
       "       [2014],\n",
       "       [2017],\n",
       "       [2014],\n",
       "       [2016],\n",
       "       [2015],\n",
       "       [2017],\n",
       "       [2017],\n",
       "       [2017],\n",
       "       [2015],\n",
       "       [2017],\n",
       "       [2017],\n",
       "       [2015],\n",
       "       [2015],\n",
       "       [2015],\n",
       "       [2015],\n",
       "       [2017],\n",
       "       [2015],\n",
       "       [2013],\n",
       "       [2017],\n",
       "       [2017],\n",
       "       [2015],\n",
       "       [2015],\n",
       "       [2015],\n",
       "       [2015],\n",
       "       [2015],\n",
       "       [2014],\n",
       "       [2015],\n",
       "       [2017],\n",
       "       [2015],\n",
       "       [2015],\n",
       "       [2017],\n",
       "       [2017],\n",
       "       [2017],\n",
       "       [2017],\n",
       "       [2017],\n",
       "       [2017],\n",
       "       [2017],\n",
       "       [2017],\n",
       "       [2017],\n",
       "       [2017],\n",
       "       [2017],\n",
       "       [2020],\n",
       "       [2020],\n",
       "       [2020],\n",
       "       [2016],\n",
       "       [2015],\n",
       "       [2015],\n",
       "       [2017],\n",
       "       [2014],\n",
       "       [2014],\n",
       "       [2015],\n",
       "       [2016],\n",
       "       [2014],\n",
       "       [2015],\n",
       "       [2016],\n",
       "       [2015]], dtype=int64)"
      ]
     },
     "execution_count": 90,
     "metadata": {},
     "output_type": "execute_result"
    }
   ],
   "source": [
    "x"
   ]
  },
  {
   "cell_type": "markdown",
   "id": "7837aa3f",
   "metadata": {},
   "source": [
    "# Linear Regression"
   ]
  },
  {
   "cell_type": "code",
   "execution_count": 65,
   "id": "c34f50b0",
   "metadata": {},
   "outputs": [],
   "source": [
    "from sklearn.model_selection import train_test_split"
   ]
  },
  {
   "cell_type": "code",
   "execution_count": 81,
   "id": "7f6da330",
   "metadata": {},
   "outputs": [],
   "source": [
    "x_train,x_test,y_train,y_test=train_test_split(x,y,test_size=.20,random_state=123)"
   ]
  },
  {
   "cell_type": "code",
   "execution_count": 82,
   "id": "52a0bcbf",
   "metadata": {},
   "outputs": [],
   "source": [
    "from sklearn.linear_model import LinearRegression"
   ]
  },
  {
   "cell_type": "code",
   "execution_count": 83,
   "id": "30ab2644",
   "metadata": {},
   "outputs": [],
   "source": [
    "lr=LinearRegression()\n",
    "model1=lr.fit(x_train,y_train)\n",
    "predictions=model1.predict(x_test)"
   ]
  },
  {
   "cell_type": "code",
   "execution_count": 84,
   "id": "c19a9129",
   "metadata": {},
   "outputs": [
    {
     "data": {
      "text/plain": [
       "94     520000\n",
       "103    375000\n",
       "42     550000\n",
       "81     390000\n",
       "111    425000\n",
       "88     520000\n",
       "108    300000\n",
       "13     600000\n",
       "59     550000\n",
       "82     390000\n",
       "8      509999\n",
       "5      350000\n",
       "0      465000\n",
       "50     325000\n",
       "70     450000\n",
       "4      465000\n",
       "31     550000\n",
       "99     600000\n",
       "35     550000\n",
       "44     550000\n",
       "75     490000\n",
       "107    375000\n",
       "29     550000\n",
       "Name: Price, dtype: int64"
      ]
     },
     "execution_count": 84,
     "metadata": {},
     "output_type": "execute_result"
    }
   ],
   "source": [
    "y_test"
   ]
  },
  {
   "cell_type": "code",
   "execution_count": 85,
   "id": "11fb8461",
   "metadata": {},
   "outputs": [
    {
     "data": {
      "text/plain": [
       "array([500375.58892302, 500375.58892302, 544465.56722482, 368105.65401764,\n",
       "       412195.63231944, 500375.58892302, 368105.65401764, 588555.54552661,\n",
       "       456285.61062123, 412195.63231944, 500375.58892302, 412195.63231944,\n",
       "       544465.56722482, 324015.67571585, 412195.63231944, 544465.56722482,\n",
       "       500375.58892302, 632645.5238284 , 500375.58892302, 588555.54552661,\n",
       "       500375.58892302, 456285.61062123, 500375.58892302])"
      ]
     },
     "execution_count": 85,
     "metadata": {},
     "output_type": "execute_result"
    }
   ],
   "source": [
    "predictions"
   ]
  },
  {
   "cell_type": "code",
   "execution_count": 86,
   "id": "db5fdea4",
   "metadata": {},
   "outputs": [],
   "source": [
    "from sklearn.metrics import mean_squared_error ,r2_score"
   ]
  },
  {
   "cell_type": "code",
   "execution_count": 87,
   "id": "1bf37900",
   "metadata": {},
   "outputs": [
    {
     "name": "stdout",
     "output_type": "stream",
     "text": [
      "Mean Squared Error is: 2864487598.2481527\n",
      "R squared value is: 0.627315978949827\n"
     ]
    }
   ],
   "source": [
    "print('Mean Squared Error is:',mean_squared_error(y_test,predictions))\n",
    "print('R squared value is:',r2_score(y_test,predictions))"
   ]
  },
  {
   "cell_type": "code",
   "execution_count": 88,
   "id": "6c1ecfb9",
   "metadata": {},
   "outputs": [
    {
     "name": "stdout",
     "output_type": "stream",
     "text": [
      "Mean Squared Error is: 2864487598.2481527\n",
      "R squared value is: 0.627315978949827\n"
     ]
    }
   ],
   "source": [
    "x_train,x_test,y_train,y_test=train_test_split(x,y,test_size=.20,random_state=123)\n",
    "lr=LinearRegression()\n",
    "model2=lr.fit(x_train,y_train)\n",
    "predictions=model2.predict(x_test)\n",
    "print('Mean Squared Error is:',mean_squared_error(y_test,predictions))\n",
    "print('R squared value is:',r2_score(y_test,predictions))"
   ]
  },
  {
   "cell_type": "code",
   "execution_count": 104,
   "id": "3755cad3",
   "metadata": {},
   "outputs": [
    {
     "data": {
      "text/plain": [
       "array([720825.48043199])"
      ]
     },
     "execution_count": 104,
     "metadata": {},
     "output_type": "execute_result"
    }
   ],
   "source": [
    "x_new=np.array([2022]).reshape(-1,1)\n",
    "model2.predict(x_new)\n"
   ]
  },
  {
   "cell_type": "code",
   "execution_count": 121,
   "id": "b9af3ad7",
   "metadata": {},
   "outputs": [
    {
     "data": {
      "image/png": "[encoded data removed]",
      "text/plain": [
       "<Figure size 432x288 with 1 Axes>"
      ]
     },
     "metadata": {
      "needs_background": "light"
     },
     "output_type": "display_data"
    }
   ],
   "source": [
    "#linear relationship between year and price\n",
    "plt.scatter(x, y)\n",
    "plt.plot(x_test, predictions, color ='k')\n",
    "plt.show()"
   ]
  },
  {
   "cell_type": "markdown",
   "id": "ed86a25e",
   "metadata": {},
   "source": [
    "# Lasso Regression"
   ]
  },
  {
   "cell_type": "code",
   "execution_count": 110,
   "id": "ad40cd08",
   "metadata": {},
   "outputs": [],
   "source": [
    "from sklearn.linear_model import LassoCV\n",
    "from sklearn.model_selection import RepeatedKFold\n",
    "from numpy import arange\n",
    "cv = RepeatedKFold(n_splits=10, n_repeats=3, random_state=1)"
   ]
  },
  {
   "cell_type": "code",
   "execution_count": 111,
   "id": "5b765cf4",
   "metadata": {},
   "outputs": [],
   "source": [
    "model = LassoCV(alphas=arange(0, 1, 0.01), cv=cv, n_jobs=-1)"
   ]
  },
  {
   "cell_type": "code",
   "execution_count": 113,
   "id": "581c9bd0",
   "metadata": {},
   "outputs": [
    {
     "name": "stderr",
     "output_type": "stream",
     "text": [
      "C:\\Users\\HP\\anacondaa3\\lib\\site-packages\\sklearn\\linear_model\\_coordinate_descent.py:633: UserWarning: Coordinate descent with alpha=0 may lead to unexpected results and is discouraged.\n",
      "  model = cd_fast.enet_coordinate_descent_gram(\n",
      "C:\\Users\\HP\\anacondaa3\\lib\\site-packages\\sklearn\\linear_model\\_coordinate_descent.py:633: UserWarning: Coordinate descent with alpha=0 may lead to unexpected results and is discouraged.\n",
      "  model = cd_fast.enet_coordinate_descent_gram(\n",
      "C:\\Users\\HP\\anacondaa3\\lib\\site-packages\\sklearn\\linear_model\\_coordinate_descent.py:633: UserWarning: Coordinate descent with alpha=0 may lead to unexpected results and is discouraged.\n",
      "  model = cd_fast.enet_coordinate_descent_gram(\n",
      "C:\\Users\\HP\\anacondaa3\\lib\\site-packages\\sklearn\\linear_model\\_coordinate_descent.py:633: UserWarning: Coordinate descent with alpha=0 may lead to unexpected results and is discouraged.\n",
      "  model = cd_fast.enet_coordinate_descent_gram(\n",
      "C:\\Users\\HP\\anacondaa3\\lib\\site-packages\\sklearn\\linear_model\\_coordinate_descent.py:633: UserWarning: Coordinate descent with alpha=0 may lead to unexpected results and is discouraged.\n",
      "  model = cd_fast.enet_coordinate_descent_gram(\n",
      "C:\\Users\\HP\\anacondaa3\\lib\\site-packages\\sklearn\\linear_model\\_coordinate_descent.py:633: UserWarning: Coordinate descent with alpha=0 may lead to unexpected results and is discouraged.\n",
      "  model = cd_fast.enet_coordinate_descent_gram(\n",
      "C:\\Users\\HP\\anacondaa3\\lib\\site-packages\\sklearn\\linear_model\\_coordinate_descent.py:633: UserWarning: Coordinate descent with alpha=0 may lead to unexpected results and is discouraged.\n",
      "  model = cd_fast.enet_coordinate_descent_gram(\n",
      "C:\\Users\\HP\\anacondaa3\\lib\\site-packages\\sklearn\\linear_model\\_coordinate_descent.py:633: UserWarning: Coordinate descent with alpha=0 may lead to unexpected results and is discouraged.\n",
      "  model = cd_fast.enet_coordinate_descent_gram(\n",
      "C:\\Users\\HP\\anacondaa3\\lib\\site-packages\\sklearn\\linear_model\\_coordinate_descent.py:633: UserWarning: Coordinate descent with alpha=0 may lead to unexpected results and is discouraged.\n",
      "  model = cd_fast.enet_coordinate_descent_gram(\n",
      "C:\\Users\\HP\\anacondaa3\\lib\\site-packages\\sklearn\\linear_model\\_coordinate_descent.py:633: UserWarning: Coordinate descent with alpha=0 may lead to unexpected results and is discouraged.\n",
      "  model = cd_fast.enet_coordinate_descent_gram(\n",
      "C:\\Users\\HP\\anacondaa3\\lib\\site-packages\\sklearn\\linear_model\\_coordinate_descent.py:633: UserWarning: Coordinate descent with alpha=0 may lead to unexpected results and is discouraged.\n",
      "  model = cd_fast.enet_coordinate_descent_gram(\n",
      "C:\\Users\\HP\\anacondaa3\\lib\\site-packages\\sklearn\\linear_model\\_coordinate_descent.py:633: UserWarning: Coordinate descent with alpha=0 may lead to unexpected results and is discouraged.\n",
      "  model = cd_fast.enet_coordinate_descent_gram(\n",
      "C:\\Users\\HP\\anacondaa3\\lib\\site-packages\\sklearn\\linear_model\\_coordinate_descent.py:633: UserWarning: Coordinate descent with alpha=0 may lead to unexpected results and is discouraged.\n",
      "  model = cd_fast.enet_coordinate_descent_gram(\n",
      "C:\\Users\\HP\\anacondaa3\\lib\\site-packages\\sklearn\\linear_model\\_coordinate_descent.py:633: UserWarning: Coordinate descent with alpha=0 may lead to unexpected results and is discouraged.\n",
      "  model = cd_fast.enet_coordinate_descent_gram(\n",
      "C:\\Users\\HP\\anacondaa3\\lib\\site-packages\\sklearn\\linear_model\\_coordinate_descent.py:633: UserWarning: Coordinate descent with alpha=0 may lead to unexpected results and is discouraged.\n",
      "  model = cd_fast.enet_coordinate_descent_gram(\n",
      "C:\\Users\\HP\\anacondaa3\\lib\\site-packages\\sklearn\\linear_model\\_coordinate_descent.py:633: UserWarning: Coordinate descent with alpha=0 may lead to unexpected results and is discouraged.\n",
      "  model = cd_fast.enet_coordinate_descent_gram(\n",
      "C:\\Users\\HP\\anacondaa3\\lib\\site-packages\\sklearn\\linear_model\\_coordinate_descent.py:633: UserWarning: Coordinate descent with alpha=0 may lead to unexpected results and is discouraged.\n",
      "  model = cd_fast.enet_coordinate_descent_gram(\n",
      "C:\\Users\\HP\\anacondaa3\\lib\\site-packages\\sklearn\\linear_model\\_coordinate_descent.py:633: UserWarning: Coordinate descent with alpha=0 may lead to unexpected results and is discouraged.\n",
      "  model = cd_fast.enet_coordinate_descent_gram(\n",
      "C:\\Users\\HP\\anacondaa3\\lib\\site-packages\\sklearn\\linear_model\\_coordinate_descent.py:633: UserWarning: Coordinate descent with alpha=0 may lead to unexpected results and is discouraged.\n",
      "  model = cd_fast.enet_coordinate_descent_gram(\n",
      "C:\\Users\\HP\\anacondaa3\\lib\\site-packages\\sklearn\\linear_model\\_coordinate_descent.py:633: UserWarning: Coordinate descent with alpha=0 may lead to unexpected results and is discouraged.\n",
      "  model = cd_fast.enet_coordinate_descent_gram(\n",
      "C:\\Users\\HP\\anacondaa3\\lib\\site-packages\\sklearn\\linear_model\\_coordinate_descent.py:633: UserWarning: Coordinate descent with alpha=0 may lead to unexpected results and is discouraged.\n",
      "  model = cd_fast.enet_coordinate_descent_gram(\n",
      "C:\\Users\\HP\\anacondaa3\\lib\\site-packages\\sklearn\\linear_model\\_coordinate_descent.py:633: UserWarning: Coordinate descent with alpha=0 may lead to unexpected results and is discouraged.\n",
      "  model = cd_fast.enet_coordinate_descent_gram(\n",
      "C:\\Users\\HP\\anacondaa3\\lib\\site-packages\\sklearn\\linear_model\\_coordinate_descent.py:633: UserWarning: Coordinate descent with alpha=0 may lead to unexpected results and is discouraged.\n",
      "  model = cd_fast.enet_coordinate_descent_gram(\n",
      "C:\\Users\\HP\\anacondaa3\\lib\\site-packages\\sklearn\\linear_model\\_coordinate_descent.py:633: UserWarning: Coordinate descent with alpha=0 may lead to unexpected results and is discouraged.\n",
      "  model = cd_fast.enet_coordinate_descent_gram(\n",
      "C:\\Users\\HP\\anacondaa3\\lib\\site-packages\\sklearn\\linear_model\\_coordinate_descent.py:633: UserWarning: Coordinate descent with alpha=0 may lead to unexpected results and is discouraged.\n",
      "  model = cd_fast.enet_coordinate_descent_gram(\n",
      "C:\\Users\\HP\\anacondaa3\\lib\\site-packages\\sklearn\\linear_model\\_coordinate_descent.py:633: UserWarning: Coordinate descent with alpha=0 may lead to unexpected results and is discouraged.\n",
      "  model = cd_fast.enet_coordinate_descent_gram(\n",
      "C:\\Users\\HP\\anacondaa3\\lib\\site-packages\\sklearn\\linear_model\\_coordinate_descent.py:633: UserWarning: Coordinate descent with alpha=0 may lead to unexpected results and is discouraged.\n",
      "  model = cd_fast.enet_coordinate_descent_gram(\n",
      "C:\\Users\\HP\\anacondaa3\\lib\\site-packages\\sklearn\\linear_model\\_coordinate_descent.py:633: UserWarning: Coordinate descent with alpha=0 may lead to unexpected results and is discouraged.\n",
      "  model = cd_fast.enet_coordinate_descent_gram(\n",
      "C:\\Users\\HP\\anacondaa3\\lib\\site-packages\\sklearn\\linear_model\\_coordinate_descent.py:633: UserWarning: Coordinate descent with alpha=0 may lead to unexpected results and is discouraged.\n",
      "  model = cd_fast.enet_coordinate_descent_gram(\n",
      "C:\\Users\\HP\\anacondaa3\\lib\\site-packages\\sklearn\\linear_model\\_coordinate_descent.py:633: UserWarning: Coordinate descent with alpha=0 may lead to unexpected results and is discouraged.\n",
      "  model = cd_fast.enet_coordinate_descent_gram(\n"
     ]
    },
    {
     "data": {
      "text/plain": [
       "LassoCV(alphas=array([0.  , 0.01, 0.02, 0.03, 0.04, 0.05, 0.06, 0.07, 0.08, 0.09, 0.1 ,\n",
       "       0.11, 0.12, 0.13, 0.14, 0.15, 0.16, 0.17, 0.18, 0.19, 0.2 , 0.21,\n",
       "       0.22, 0.23, 0.24, 0.25, 0.26, 0.27, 0.28, 0.29, 0.3 , 0.31, 0.32,\n",
       "       0.33, 0.34, 0.35, 0.36, 0.37, 0.38, 0.39, 0.4 , 0.41, 0.42, 0.43,\n",
       "       0.44, 0.45, 0.46, 0.47, 0.48, 0.49, 0.5 , 0.51, 0.52, 0.53, 0.54,\n",
       "       0.55, 0.56, 0.57, 0.58, 0.59, 0.6 , 0.61, 0.62, 0.63, 0.64, 0.65,\n",
       "       0.66, 0.67, 0.68, 0.69, 0.7 , 0.71, 0.72, 0.73, 0.74, 0.75, 0.76,\n",
       "       0.77, 0.78, 0.79, 0.8 , 0.81, 0.82, 0.83, 0.84, 0.85, 0.86, 0.87,\n",
       "       0.88, 0.89, 0.9 , 0.91, 0.92, 0.93, 0.94, 0.95, 0.96, 0.97, 0.98,\n",
       "       0.99]),\n",
       "        cv=RepeatedKFold(n_repeats=3, n_splits=10, random_state=1), n_jobs=-1)"
      ]
     },
     "execution_count": 113,
     "metadata": {},
     "output_type": "execute_result"
    }
   ],
   "source": [
    "model.fit(x, y)"
   ]
  },
  {
   "cell_type": "code",
   "execution_count": 114,
   "id": "0a0e1d28",
   "metadata": {},
   "outputs": [
    {
     "name": "stdout",
     "output_type": "stream",
     "text": [
      "0.99\n"
     ]
    }
   ],
   "source": [
    "print(model.alpha_)"
   ]
  },
  {
   "cell_type": "code",
   "execution_count": 117,
   "id": "d3a6f7eb",
   "metadata": {},
   "outputs": [
    {
     "name": "stdout",
     "output_type": "stream",
     "text": [
      "Mean Squared Error is: 2822002886.565393\n",
      "R squared value is: 0.6328434503177505\n"
     ]
    }
   ],
   "source": [
    "predictions=model.predict(x_test)\n",
    "print('Mean Squared Error is:',mean_squared_error(y_test,predictions))\n",
    "print('R squared value is:',r2_score(y_test,predictions))"
   ]
  },
  {
   "cell_type": "code",
   "execution_count": 116,
   "id": "2ce0f53b",
   "metadata": {},
   "outputs": [
    {
     "data": {
      "text/plain": [
       "array([715486.07350112])"
      ]
     },
     "execution_count": 116,
     "metadata": {},
     "output_type": "execute_result"
    }
   ],
   "source": [
    "model.predict(x_new)"
   ]
  },
  {
   "cell_type": "markdown",
   "id": "f3d1844a",
   "metadata": {},
   "source": [
    "# Comparison"
   ]
  },
  {
   "cell_type": "raw",
   "id": "e406bc53",
   "metadata": {},
   "source": [
    "Comparing the r squared values,lasso regression has more accuracy than the linear regression."
   ]
  },
  {
   "cell_type": "code",
   "execution_count": null,
   "id": "0b1340cb",
   "metadata": {},
   "outputs": [],
   "source": []
  }
 ],
 "metadata": {
  "kernelspec": {
   "display_name": "Python 3 (ipykernel)",
   "language": "python",
   "name": "python3"
  },
  "language_info": {
   "codemirror_mode": {
    "name": "ipython",
    "version": 3
   },
   "file_extension": ".py",
   "mimetype": "text/x-python",
   "name": "python",
   "nbconvert_exporter": "python",
   "pygments_lexer": "ipython3",
   "version": "3.9.12"
  }
 },
 "nbformat": 4,
 "nbformat_minor": 5
}
